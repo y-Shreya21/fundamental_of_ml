{
  "nbformat": 4,
  "nbformat_minor": 0,
  "metadata": {
    "colab": {
      "provenance": [],
      "authorship_tag": "ABX9TyOSFNO1VlNNiKHx59XA7yOO",
      "include_colab_link": true
    },
    "kernelspec": {
      "name": "python3",
      "display_name": "Python 3"
    },
    "language_info": {
      "name": "python"
    }
  },
  "cells": [
    {
      "cell_type": "markdown",
      "metadata": {
        "id": "view-in-github",
        "colab_type": "text"
      },
      "source": [
        "<a href=\"https://colab.research.google.com/github/y-Shreya21/fundamental_of_ml/blob/main/travellingsalesmanproblem.ipynb\" target=\"_parent\"><img src=\"https://colab.research.google.com/assets/colab-badge.svg\" alt=\"Open In Colab\"/></a>"
      ]
    },
    {
      "cell_type": "code",
      "execution_count": 1,
      "metadata": {
        "colab": {
          "base_uri": "https://localhost:8080/",
          "height": 109
        },
        "id": "81fDafE01sCP",
        "outputId": "4931c9c4-314f-4525-8ff5-fdabacf93c32"
      },
      "outputs": [
        {
          "output_type": "error",
          "ename": "SyntaxError",
          "evalue": "incomplete input (<ipython-input-1-e9425d61b522>, line 23)",
          "traceback": [
            "\u001b[0;36m  File \u001b[0;32m\"<ipython-input-1-e9425d61b522>\"\u001b[0;36m, line \u001b[0;32m23\u001b[0m\n\u001b[0;31m    else:\u001b[0m\n\u001b[0m         ^\u001b[0m\n\u001b[0;31mSyntaxError\u001b[0m\u001b[0;31m:\u001b[0m incomplete input\n"
          ]
        }
      ],
      "source": [
        "#Simple implementation of aco with 4 cities ;\n",
        "import numpy as np\n",
        "#Distance matrix for 4 cities\n",
        "dist = np.array([[0,10,15,20],[10,0,35,25],[15,35,0,30],[20,25,30,0]])\n",
        "num_cities = len(dist)\n",
        "num_ants = 4\n",
        "num_iterations = 10\n",
        "alpha =  1.0 #phermone importance\n",
        "beta =  2.0 #herustic importance\n",
        "evaporation_rate = 0.5\n",
        "pheromone_deposite = 100.0\n",
        "#initialize pheromonse\n",
        "pheromone = np.ones((num_cities,num_cities))\n",
        "# Probability cal\n",
        "def calculate_probability(current_city, visited_cities):\n",
        "    probabilities = []\n",
        "    for i in range(len(distance)):\n",
        "      if i in visited_cities:\n",
        "        numerator = pheromone[current_city][i] ** alpha\n",
        "        denominator = distance[current_city][i] ** beta\n",
        "        probability = numerator / denominator\n",
        "        probabilities.append(probability)\n",
        "      else:\n",
        "        prob = (pheromone[i] ** alpha) * ((1.0 / distance[i]) ** beta)\n",
        "        probabilities.append(prob)\n",
        "    total_probability = sum(probabilities)\n",
        "    return  [p / total_probability for prob in probabilities]\n",
        "def construct_solution():\n",
        "  path = []\n",
        "  visited =  set()\n",
        "  current_city = np.random.randint(num_cities)\n",
        "  path.append(current_city)\n",
        "  visited.add(current_city)\n",
        "\n",
        "  while len(path) < num_cities:\n",
        "    probabilities = calculate_probability(pheromone[current_city],distance[current_city], visited)\n",
        "    next_city = np.random.choice(range(num_cities), p=probs)\n",
        "    path.append(next_city)\n",
        "    visited.add(next_city)\n",
        "    current_city = next_city\n",
        "  return path\n",
        "\n",
        "  #calculate length of a path\n",
        "  def calculate_path_length(path):\n",
        "    length = 0\n",
        "    for i in range(len(path)):\n",
        "     from_city = path[i]\n",
        "     to_city = path[(i + 1) % len(path)]\n",
        "    length += distance[from_city][to_city]\n",
        "    return length\n",
        "\n",
        "    #aco main loop\n",
        "    best_path = None\n",
        "    best_path_length = float('inf')\n",
        "\n",
        "    for it in range(num_iterations):\n",
        "     all_path = [ ]\n",
        "     all_length = [ ]\n",
        "\n",
        "     for ant in range(num_ants):\n",
        "       path = construct_solution()\n",
        "       length = calculate_path_length(path)\n",
        "       all_path.append(path)\n",
        "       all_length.append(length)\n",
        "\n",
        "       if length < best_path_length:\n",
        "        best_path = path\n",
        "        best_path_length = length"
      ]
    },
    {
      "cell_type": "code",
      "source": [],
      "metadata": {
        "id": "-u3gN_mr3gDa"
      },
      "execution_count": null,
      "outputs": []
    }
  ]
}